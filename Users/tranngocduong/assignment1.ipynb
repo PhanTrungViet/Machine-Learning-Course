{
 "cells": [
  {
   "cell_type": "markdown",
   "metadata": {},
   "source": [
    "Analytic Report project\n",
    "\n",
    "Given the dataset, create an analytic report to answer three below questions. The report should include the introduction, describing the data, analysis and conclusions.\n",
    "1.\tHow does blood pressure and cholesterol relate to each other? (how to know if datas are related)\n",
    "2.\tDo men tend to have higher blood pressure than women? What about cholesterol?\n",
    "3.\tWhat contribute to causing heart disease (age, cholesterol, blood pressure)? Is it the effect the same for both sex (male and female)?"
   ]
  },
  {
   "cell_type": "code",
   "execution_count": 181,
   "metadata": {
    "collapsed": true
   },
   "outputs": [],
   "source": [
    "import pandas as pd\n",
    "import scipy as scipy\n",
    "from scipy.stats import ttest_ind\n",
    "import numpy as np\n",
    "import matplotlib.pyplot as plot\n",
    "#enable IPython to display matplotlib graphstface\n",
    "%matplotlib inline \n",
    "path = 'D:\\Documents\\GitHub\\Machine-Learning-Course\\Assignment\\Analytic Project\\Cardiology.xls'\n",
    "sn= 'Sheet1'\n",
    "data = pd.read_excel(path,sheetname = sn,  skiprows =range(1,3)) #row2 -> row3 are skipped"
   ]
  },
  {
   "cell_type": "code",
   "execution_count": 182,
   "metadata": {},
   "outputs": [
    {
     "data": {
      "text/html": [
       "<div>\n",
       "<style>\n",
       "    .dataframe thead tr:only-child th {\n",
       "        text-align: right;\n",
       "    }\n",
       "\n",
       "    .dataframe thead th {\n",
       "        text-align: left;\n",
       "    }\n",
       "\n",
       "    .dataframe tbody tr th {\n",
       "        vertical-align: top;\n",
       "    }\n",
       "</style>\n",
       "<table border=\"1\" class=\"dataframe\">\n",
       "  <thead>\n",
       "    <tr style=\"text-align: right;\">\n",
       "      <th></th>\n",
       "      <th>age</th>\n",
       "      <th>sex</th>\n",
       "      <th>chest pain type</th>\n",
       "      <th>blood pressure</th>\n",
       "      <th>cholesterol</th>\n",
       "      <th>Fasting blood sugar &lt;120</th>\n",
       "      <th>resting ecg</th>\n",
       "      <th>maximum heart rate</th>\n",
       "      <th>angina</th>\n",
       "      <th>peak</th>\n",
       "      <th>slope</th>\n",
       "      <th>#colored vessels</th>\n",
       "      <th>thal</th>\n",
       "      <th>class</th>\n",
       "    </tr>\n",
       "  </thead>\n",
       "  <tbody>\n",
       "    <tr>\n",
       "      <th>count</th>\n",
       "      <td>303.000000</td>\n",
       "      <td>303.000000</td>\n",
       "      <td>303.000000</td>\n",
       "      <td>303.000000</td>\n",
       "      <td>303.000000</td>\n",
       "      <td>303.000000</td>\n",
       "      <td>303.000000</td>\n",
       "      <td>303.000000</td>\n",
       "      <td>303.000000</td>\n",
       "      <td>303.000000</td>\n",
       "      <td>303.000000</td>\n",
       "      <td>303.000000</td>\n",
       "      <td>303.000000</td>\n",
       "      <td>303.000000</td>\n",
       "    </tr>\n",
       "    <tr>\n",
       "      <th>mean</th>\n",
       "      <td>54.366337</td>\n",
       "      <td>0.683168</td>\n",
       "      <td>3.155116</td>\n",
       "      <td>131.623762</td>\n",
       "      <td>246.264026</td>\n",
       "      <td>0.148515</td>\n",
       "      <td>0.983498</td>\n",
       "      <td>149.646865</td>\n",
       "      <td>0.326733</td>\n",
       "      <td>1.039604</td>\n",
       "      <td>1.600660</td>\n",
       "      <td>0.666667</td>\n",
       "      <td>4.735974</td>\n",
       "      <td>0.544554</td>\n",
       "    </tr>\n",
       "    <tr>\n",
       "      <th>std</th>\n",
       "      <td>9.082101</td>\n",
       "      <td>0.466011</td>\n",
       "      <td>0.958941</td>\n",
       "      <td>17.538143</td>\n",
       "      <td>51.830751</td>\n",
       "      <td>0.356198</td>\n",
       "      <td>0.994883</td>\n",
       "      <td>22.905161</td>\n",
       "      <td>0.469794</td>\n",
       "      <td>1.161075</td>\n",
       "      <td>0.616226</td>\n",
       "      <td>0.933790</td>\n",
       "      <td>1.940231</td>\n",
       "      <td>0.498835</td>\n",
       "    </tr>\n",
       "    <tr>\n",
       "      <th>min</th>\n",
       "      <td>29.000000</td>\n",
       "      <td>0.000000</td>\n",
       "      <td>1.000000</td>\n",
       "      <td>94.000000</td>\n",
       "      <td>126.000000</td>\n",
       "      <td>0.000000</td>\n",
       "      <td>0.000000</td>\n",
       "      <td>71.000000</td>\n",
       "      <td>0.000000</td>\n",
       "      <td>0.000000</td>\n",
       "      <td>1.000000</td>\n",
       "      <td>0.000000</td>\n",
       "      <td>3.000000</td>\n",
       "      <td>0.000000</td>\n",
       "    </tr>\n",
       "    <tr>\n",
       "      <th>25%</th>\n",
       "      <td>47.500000</td>\n",
       "      <td>0.000000</td>\n",
       "      <td>3.000000</td>\n",
       "      <td>120.000000</td>\n",
       "      <td>211.000000</td>\n",
       "      <td>0.000000</td>\n",
       "      <td>0.000000</td>\n",
       "      <td>133.500000</td>\n",
       "      <td>0.000000</td>\n",
       "      <td>0.000000</td>\n",
       "      <td>1.000000</td>\n",
       "      <td>0.000000</td>\n",
       "      <td>3.000000</td>\n",
       "      <td>0.000000</td>\n",
       "    </tr>\n",
       "    <tr>\n",
       "      <th>50%</th>\n",
       "      <td>55.000000</td>\n",
       "      <td>1.000000</td>\n",
       "      <td>3.000000</td>\n",
       "      <td>130.000000</td>\n",
       "      <td>240.000000</td>\n",
       "      <td>0.000000</td>\n",
       "      <td>0.000000</td>\n",
       "      <td>153.000000</td>\n",
       "      <td>0.000000</td>\n",
       "      <td>0.800000</td>\n",
       "      <td>2.000000</td>\n",
       "      <td>0.000000</td>\n",
       "      <td>3.000000</td>\n",
       "      <td>1.000000</td>\n",
       "    </tr>\n",
       "    <tr>\n",
       "      <th>75%</th>\n",
       "      <td>61.000000</td>\n",
       "      <td>1.000000</td>\n",
       "      <td>4.000000</td>\n",
       "      <td>140.000000</td>\n",
       "      <td>274.500000</td>\n",
       "      <td>0.000000</td>\n",
       "      <td>2.000000</td>\n",
       "      <td>166.000000</td>\n",
       "      <td>1.000000</td>\n",
       "      <td>1.600000</td>\n",
       "      <td>2.000000</td>\n",
       "      <td>1.000000</td>\n",
       "      <td>7.000000</td>\n",
       "      <td>1.000000</td>\n",
       "    </tr>\n",
       "    <tr>\n",
       "      <th>max</th>\n",
       "      <td>77.000000</td>\n",
       "      <td>1.000000</td>\n",
       "      <td>4.000000</td>\n",
       "      <td>200.000000</td>\n",
       "      <td>564.000000</td>\n",
       "      <td>1.000000</td>\n",
       "      <td>2.000000</td>\n",
       "      <td>202.000000</td>\n",
       "      <td>1.000000</td>\n",
       "      <td>6.200000</td>\n",
       "      <td>3.000000</td>\n",
       "      <td>3.000000</td>\n",
       "      <td>7.000000</td>\n",
       "      <td>1.000000</td>\n",
       "    </tr>\n",
       "  </tbody>\n",
       "</table>\n",
       "</div>"
      ],
      "text/plain": [
       "              age         sex  chest pain type  blood pressure  cholesterol  \\\n",
       "count  303.000000  303.000000       303.000000      303.000000   303.000000   \n",
       "mean    54.366337    0.683168         3.155116      131.623762   246.264026   \n",
       "std      9.082101    0.466011         0.958941       17.538143    51.830751   \n",
       "min     29.000000    0.000000         1.000000       94.000000   126.000000   \n",
       "25%     47.500000    0.000000         3.000000      120.000000   211.000000   \n",
       "50%     55.000000    1.000000         3.000000      130.000000   240.000000   \n",
       "75%     61.000000    1.000000         4.000000      140.000000   274.500000   \n",
       "max     77.000000    1.000000         4.000000      200.000000   564.000000   \n",
       "\n",
       "       Fasting blood sugar <120  resting ecg  maximum heart rate      angina  \\\n",
       "count                303.000000   303.000000          303.000000  303.000000   \n",
       "mean                   0.148515     0.983498          149.646865    0.326733   \n",
       "std                    0.356198     0.994883           22.905161    0.469794   \n",
       "min                    0.000000     0.000000           71.000000    0.000000   \n",
       "25%                    0.000000     0.000000          133.500000    0.000000   \n",
       "50%                    0.000000     0.000000          153.000000    0.000000   \n",
       "75%                    0.000000     2.000000          166.000000    1.000000   \n",
       "max                    1.000000     2.000000          202.000000    1.000000   \n",
       "\n",
       "             peak       slope  #colored vessels        thal       class  \n",
       "count  303.000000  303.000000        303.000000  303.000000  303.000000  \n",
       "mean     1.039604    1.600660          0.666667    4.735974    0.544554  \n",
       "std      1.161075    0.616226          0.933790    1.940231    0.498835  \n",
       "min      0.000000    1.000000          0.000000    3.000000    0.000000  \n",
       "25%      0.000000    1.000000          0.000000    3.000000    0.000000  \n",
       "50%      0.800000    2.000000          0.000000    3.000000    1.000000  \n",
       "75%      1.600000    2.000000          1.000000    7.000000    1.000000  \n",
       "max      6.200000    3.000000          3.000000    7.000000    1.000000  "
      ]
     },
     "execution_count": 182,
     "metadata": {},
     "output_type": "execute_result"
    }
   ],
   "source": [
    "data.describe()"
   ]
  },
  {
   "cell_type": "code",
   "execution_count": 183,
   "metadata": {},
   "outputs": [
    {
     "data": {
      "text/plain": [
       "(303, 14)"
      ]
     },
     "execution_count": 183,
     "metadata": {},
     "output_type": "execute_result"
    }
   ],
   "source": [
    "data.shape"
   ]
  },
  {
   "cell_type": "code",
   "execution_count": 184,
   "metadata": {},
   "outputs": [
    {
     "data": {
      "text/html": [
       "<div>\n",
       "<style>\n",
       "    .dataframe thead tr:only-child th {\n",
       "        text-align: right;\n",
       "    }\n",
       "\n",
       "    .dataframe thead th {\n",
       "        text-align: left;\n",
       "    }\n",
       "\n",
       "    .dataframe tbody tr th {\n",
       "        vertical-align: top;\n",
       "    }\n",
       "</style>\n",
       "<table border=\"1\" class=\"dataframe\">\n",
       "  <thead>\n",
       "    <tr style=\"text-align: right;\">\n",
       "      <th></th>\n",
       "      <th>age</th>\n",
       "      <th>sex</th>\n",
       "      <th>blood pressure</th>\n",
       "      <th>cholesterol</th>\n",
       "      <th>class</th>\n",
       "    </tr>\n",
       "  </thead>\n",
       "  <tbody>\n",
       "    <tr>\n",
       "      <th>count</th>\n",
       "      <td>303.000000</td>\n",
       "      <td>303.000000</td>\n",
       "      <td>303.000000</td>\n",
       "      <td>303.000000</td>\n",
       "      <td>303.000000</td>\n",
       "    </tr>\n",
       "    <tr>\n",
       "      <th>mean</th>\n",
       "      <td>54.366337</td>\n",
       "      <td>0.683168</td>\n",
       "      <td>131.623762</td>\n",
       "      <td>246.264026</td>\n",
       "      <td>0.544554</td>\n",
       "    </tr>\n",
       "    <tr>\n",
       "      <th>std</th>\n",
       "      <td>9.082101</td>\n",
       "      <td>0.466011</td>\n",
       "      <td>17.538143</td>\n",
       "      <td>51.830751</td>\n",
       "      <td>0.498835</td>\n",
       "    </tr>\n",
       "    <tr>\n",
       "      <th>min</th>\n",
       "      <td>29.000000</td>\n",
       "      <td>0.000000</td>\n",
       "      <td>94.000000</td>\n",
       "      <td>126.000000</td>\n",
       "      <td>0.000000</td>\n",
       "    </tr>\n",
       "    <tr>\n",
       "      <th>25%</th>\n",
       "      <td>47.500000</td>\n",
       "      <td>0.000000</td>\n",
       "      <td>120.000000</td>\n",
       "      <td>211.000000</td>\n",
       "      <td>0.000000</td>\n",
       "    </tr>\n",
       "    <tr>\n",
       "      <th>50%</th>\n",
       "      <td>55.000000</td>\n",
       "      <td>1.000000</td>\n",
       "      <td>130.000000</td>\n",
       "      <td>240.000000</td>\n",
       "      <td>1.000000</td>\n",
       "    </tr>\n",
       "    <tr>\n",
       "      <th>75%</th>\n",
       "      <td>61.000000</td>\n",
       "      <td>1.000000</td>\n",
       "      <td>140.000000</td>\n",
       "      <td>274.500000</td>\n",
       "      <td>1.000000</td>\n",
       "    </tr>\n",
       "    <tr>\n",
       "      <th>max</th>\n",
       "      <td>77.000000</td>\n",
       "      <td>1.000000</td>\n",
       "      <td>200.000000</td>\n",
       "      <td>564.000000</td>\n",
       "      <td>1.000000</td>\n",
       "    </tr>\n",
       "  </tbody>\n",
       "</table>\n",
       "</div>"
      ],
      "text/plain": [
       "              age         sex  blood pressure  cholesterol       class\n",
       "count  303.000000  303.000000      303.000000   303.000000  303.000000\n",
       "mean    54.366337    0.683168      131.623762   246.264026    0.544554\n",
       "std      9.082101    0.466011       17.538143    51.830751    0.498835\n",
       "min     29.000000    0.000000       94.000000   126.000000    0.000000\n",
       "25%     47.500000    0.000000      120.000000   211.000000    0.000000\n",
       "50%     55.000000    1.000000      130.000000   240.000000    1.000000\n",
       "75%     61.000000    1.000000      140.000000   274.500000    1.000000\n",
       "max     77.000000    1.000000      200.000000   564.000000    1.000000"
      ]
     },
     "execution_count": 184,
     "metadata": {},
     "output_type": "execute_result"
    }
   ],
   "source": [
    "dataFrame  = pd.DataFrame(data)\n",
    "dataFrame = dataFrame[['age', 'sex', 'blood pressure', 'cholesterol','class']]\n",
    "dataFrame.describe()"
   ]
  },
  {
   "cell_type": "code",
   "execution_count": 185,
   "metadata": {
    "collapsed": true
   },
   "outputs": [],
   "source": [
    "def printHistogram(data, binsValue, title, xlabel, ylabel):\n",
    "    hist_plot = data.hist(bins=binsValue)\n",
    "    hist_plot.set_title(title)\n",
    "    hist_plot.set_xlabel(xlabel)\n",
    "    hist_plot.set_ylabel(ylabel)"
   ]
  },
  {
   "cell_type": "code",
   "execution_count": 186,
   "metadata": {},
   "outputs": [
    {
     "data": {
      "image/png": "[encoded data removed]",
      "text/plain": [
       "<matplotlib.figure.Figure at 0x1c37151cdd8>"
      ]
     },
     "metadata": {},
     "output_type": "display_data"
    }
   ],
   "source": [
    "printHistogram(dataFrame['age'], 35, \"Age histogram\", \"Age values\", \"Frequency\")"
   ]
  },
  {
   "cell_type": "code",
   "execution_count": 187,
   "metadata": {
    "scrolled": true
   },
   "outputs": [
    {
     "data": {
      "image/png": "[encoded data removed]",
      "text/plain": [
       "<matplotlib.figure.Figure at 0x1c37151cbe0>"
      ]
     },
     "metadata": {},
     "output_type": "display_data"
    }
   ],
   "source": [
    "printHistogram(dataFrame['sex'], None, \"Gender histogram\", \"0: Female     1: Male\", \"Frequency\")"
   ]
  },
  {
   "cell_type": "code",
   "execution_count": 188,
   "metadata": {},
   "outputs": [
    {
     "data": {
      "image/png": "[encoded data removed]",
      "text/plain": [
       "<matplotlib.figure.Figure at 0x1c3719961d0>"
      ]
     },
     "metadata": {},
     "output_type": "display_data"
    }
   ],
   "source": [
    "printHistogram(dataFrame['blood pressure'], 35, \"Blood pressure histogram\", \"Blood pressure (mmHg)\", \"Frequency\")"
   ]
  },
  {
   "cell_type": "code",
   "execution_count": 189,
   "metadata": {},
   "outputs": [
    {
     "data": {
      "image/png": "[encoded data removed]",
      "text/plain": [
       "<matplotlib.figure.Figure at 0x1c3700a0e80>"
      ]
     },
     "metadata": {},
     "output_type": "display_data"
    }
   ],
   "source": [
    "printHistogram(dataFrame['cholesterol'], 35, \"Cholesterol histogram\", \"Cholesterol levels (mg/DL)\", \"Frequency\")"
   ]
  },
  {
   "cell_type": "code",
   "execution_count": 190,
   "metadata": {},
   "outputs": [
    {
     "data": {
      "image/png": "[encoded data removed]",
      "text/plain": [
       "<matplotlib.figure.Figure at 0x1c3714aac50>"
      ]
     },
     "metadata": {},
     "output_type": "display_data"
    }
   ],
   "source": [
    "printHistogram(dataFrame['class'], None, \"Heart disease histogram\", \"0: Negative     1:Positive\", \"Frequency\")"
   ]
  },
  {
   "cell_type": "code",
   "execution_count": 191,
   "metadata": {
    "collapsed": true
   },
   "outputs": [],
   "source": [
    "menDF = dataFrame.loc[dataFrame['sex']==1] #locate rows in dataFrame where sex is 1, assume male is 1\n",
    "menDF.name = \"men data\"\n",
    "womenDF = dataFrame.loc[dataFrame['sex']==0]\n",
    "womenDF.name = \"women data\""
   ]
  },
  {
   "cell_type": "code",
   "execution_count": 192,
   "metadata": {
    "collapsed": true
   },
   "outputs": [],
   "source": [
    "# PROBLEM 2: a. TWO-SAMPLE T-TEST: MEN AND WOMEN ON BLOOD PRESSURE"
   ]
  },
  {
   "cell_type": "code",
   "execution_count": 193,
   "metadata": {
    "collapsed": true
   },
   "outputs": [],
   "source": [
    "h0 = \"\\\"Men tend to have equal blood pressure to women\\\"\"\n",
    "tBP = ttest_ind(womenDF['blood pressure'], menDF['blood pressure'])"
   ]
  },
  {
   "cell_type": "code",
   "execution_count": 194,
   "metadata": {},
   "outputs": [
    {
     "data": {
      "text/plain": [
       "Ttest_indResult(statistic=0.98649315362083601, pvalue=0.3246834797221041)"
      ]
     },
     "execution_count": 194,
     "metadata": {},
     "output_type": "execute_result"
    }
   ],
   "source": [
    "tBP"
   ]
  },
  {
   "cell_type": "code",
   "execution_count": 195,
   "metadata": {
    "collapsed": true
   },
   "outputs": [],
   "source": [
    "def checkP(pval, hypo):\n",
    "    # 4 conventions\n",
    "    if(pval > 0.1):\n",
    "        print(\"we fail to reject h0: \"+hypo)\n",
    "    elif(0.05 < pval <= 0.1 ):\n",
    "        print(\"We have marginally significant evidence against h0: \"+hypo)\n",
    "    elif(0.01 < pval <= 0.05):\n",
    "        print(\"We have significant evidence against h0: \"+hypo)\n",
    "    elif(pval <= 0.1):\n",
    "        print(\"We have highly significant evidence against h0: \"+hypo)"
   ]
  },
  {
   "cell_type": "code",
   "execution_count": 196,
   "metadata": {},
   "outputs": [
    {
     "name": "stdout",
     "output_type": "stream",
     "text": [
      "we fail to reject h0: \"Men tend to have equal blood pressure to women\"\n"
     ]
    }
   ],
   "source": [
    "checkP(tBP.pvalue,h0)"
   ]
  },
  {
   "cell_type": "code",
   "execution_count": 197,
   "metadata": {
    "collapsed": true
   },
   "outputs": [],
   "source": [
    "# b. TWO-SAMPLE T-TEST: MEN AND WOMEN ON CHOLESTEROL\n",
    "h0 = \"\\\"Men tend to have equal cholesterol to women\\\"\"\n",
    "tCl = ttest_ind(menDF['cholesterol'], womenDF['cholesterol'])"
   ]
  },
  {
   "cell_type": "code",
   "execution_count": 198,
   "metadata": {},
   "outputs": [
    {
     "data": {
      "text/plain": [
       "Ttest_indResult(statistic=-3.5029368327219244, pvalue=0.00052996661062266396)"
      ]
     },
     "execution_count": 198,
     "metadata": {},
     "output_type": "execute_result"
    }
   ],
   "source": [
    "tCl"
   ]
  },
  {
   "cell_type": "code",
   "execution_count": 199,
   "metadata": {},
   "outputs": [
    {
     "name": "stdout",
     "output_type": "stream",
     "text": [
      "We have highly significant evidence against h0: \"Men tend to have equal cholesterol to women\"\n"
     ]
    }
   ],
   "source": [
    "checkP(tCl.pvalue,h0)"
   ]
  },
  {
   "cell_type": "code",
   "execution_count": 200,
   "metadata": {
    "collapsed": true
   },
   "outputs": [],
   "source": [
    "# PROBLEM 1: Is there any relationship between blood pressure and cholesterol?"
   ]
  },
  {
   "cell_type": "code",
   "execution_count": 201,
   "metadata": {},
   "outputs": [
    {
     "data": {
      "text/plain": [
       "0.12317420653239071"
      ]
     },
     "execution_count": 201,
     "metadata": {},
     "output_type": "execute_result"
    }
   ],
   "source": [
    "# t-test for correlations using Pearson's correlation coef.:\n",
    "# scipy.stats.pearsonr(x, y)\n",
    "# Positive correlations imply that as x increases, so does y. Negative correlations imply that as x increases, y decreases.\n",
    "coRe,pValue=scipy.stats.pearsonr(dataFrame['blood pressure'], dataFrame['cholesterol'])\n",
    "#returns correlation value ranged of -1 | 0 | 1\n",
    "coRe"
   ]
  },
  {
   "cell_type": "code",
   "execution_count": 202,
   "metadata": {},
   "outputs": [
    {
     "name": "stdout",
     "output_type": "stream",
     "text": [
      "blood pressure and cholesterol have relation by ratio, if blood pressure increases, cholesterol increases\n"
     ]
    }
   ],
   "source": [
    "def checkApproxToZero(cr):\n",
    "    try:\n",
    "        np.testing.assert_approx_equal(0, coRe, significant=8)\n",
    "        return True\n",
    "    except AssertionError:\n",
    "        # an exception is yielded if the items passed in are not equal\n",
    "        return False\n",
    "    \n",
    "# check if correlation val ~ 0, means blood pressure and cholesterol have no relation    \n",
    "def checkCorrelation(cr, x, y):\n",
    "    \n",
    "    if(checkApproxToZero(cr) is True):\n",
    "        print(x+\" and \" +y+\" have no relation\")\n",
    "    else:\n",
    "        if(cr > 0):\n",
    "            print(x+\" and \" +y+\" have relation by ratio, if \"+ x+\" increases, \"+y+\" increases\")\n",
    "        else:\n",
    "            print(x+\" and \" +y+\" have relation by inverse ratio, if \"+ x+\" increases, \"+y+\" decreases\")\n",
    "\n",
    "checkCorrelation(coRe,'blood pressure','cholesterol')"
   ]
  },
  {
   "cell_type": "code",
   "execution_count": 203,
   "metadata": {},
   "outputs": [
    {
     "data": {
      "text/plain": [
       "array([[<matplotlib.axes._subplots.AxesSubplot object at 0x000001C371472F28>,\n",
       "        <matplotlib.axes._subplots.AxesSubplot object at 0x000001C3719C7128>]], dtype=object)"
      ]
     },
     "execution_count": 203,
     "metadata": {},
     "output_type": "execute_result"
    },
    {
     "data": {
      "image/png": "[encoded data removed]",
      "text/plain": [
       "<matplotlib.figure.Figure at 0x1c371b47630>"
      ]
     },
     "metadata": {},
     "output_type": "display_data"
    }
   ],
   "source": [
    "dataFrame[['blood pressure','cholesterol']].hist()"
   ]
  },
  {
   "cell_type": "code",
   "execution_count": 204,
   "metadata": {
    "collapsed": true
   },
   "outputs": [],
   "source": [
    "# PROBLEM 3: WHAT CONTRIBUTE TO CAUSING HEART DISEASE?\n",
    "# Is the effect the same for both sex (male and female)?"
   ]
  },
  {
   "cell_type": "code",
   "execution_count": 205,
   "metadata": {},
   "outputs": [
    {
     "data": {
      "text/plain": [
       "-0.29099299444192772"
      ]
     },
     "execution_count": 205,
     "metadata": {},
     "output_type": "execute_result"
    }
   ],
   "source": [
    "# Testing with men data:\n",
    "# Testing relation with age:\n",
    "crAge1, pValue = scipy.stats.pearsonr(menDF['age'], menDF['class'])\n",
    "crAge1"
   ]
  },
  {
   "cell_type": "code",
   "execution_count": 206,
   "metadata": {},
   "outputs": [
    {
     "data": {
      "text/plain": [
       "-0.17566508173717524"
      ]
     },
     "execution_count": 206,
     "metadata": {},
     "output_type": "execute_result"
    }
   ],
   "source": [
    "# Testing relation with cholesterol:\n",
    "crCho1, pValue = scipy.stats.pearsonr(menDF['cholesterol'], menDF['class'])\n",
    "crCho1"
   ]
  },
  {
   "cell_type": "code",
   "execution_count": 207,
   "metadata": {},
   "outputs": [
    {
     "data": {
      "text/plain": [
       "-0.065489419966359194"
      ]
     },
     "execution_count": 207,
     "metadata": {},
     "output_type": "execute_result"
    }
   ],
   "source": [
    "# Testing relation with blood pressure:\n",
    "crBP1, pValue = scipy.stats.pearsonr(menDF['blood pressure'], menDF['class'])\n",
    "crBP1"
   ]
  },
  {
   "cell_type": "code",
   "execution_count": 208,
   "metadata": {
    "collapsed": true
   },
   "outputs": [],
   "source": [
    "import operator\n",
    "\n",
    "stats1 = {'blood pressure':crBP1, 'age':crAge1,'cholesterol':crCho1}\n",
    "# Find the strongest relation with max()\n",
    "maleCausing=max(stats1, key = stats1.get)"
   ]
  },
  {
   "cell_type": "code",
   "execution_count": 209,
   "metadata": {},
   "outputs": [
    {
     "data": {
      "text/plain": [
       "-0.2075308815584328"
      ]
     },
     "execution_count": 209,
     "metadata": {},
     "output_type": "execute_result"
    }
   ],
   "source": [
    "# Testing with women data:\n",
    "# Testing relation with age:\n",
    "crAge0, pValue = scipy.stats.pearsonr(womenDF['age'], womenDF['class'])\n",
    "crAge0"
   ]
  },
  {
   "cell_type": "code",
   "execution_count": 210,
   "metadata": {},
   "outputs": [
    {
     "data": {
      "text/plain": [
       "-0.12176918618704993"
      ]
     },
     "execution_count": 210,
     "metadata": {},
     "output_type": "execute_result"
    }
   ],
   "source": [
    "# Testing relation with cholesterol:\n",
    "crCho0, pValue = scipy.stats.pearsonr(womenDF['cholesterol'], womenDF['class'])\n",
    "crCho0"
   ]
  },
  {
   "cell_type": "code",
   "execution_count": 211,
   "metadata": {},
   "outputs": [
    {
     "data": {
      "text/plain": [
       "-0.39195738649166512"
      ]
     },
     "execution_count": 211,
     "metadata": {},
     "output_type": "execute_result"
    }
   ],
   "source": [
    "# Testing relation with blood pressure:\n",
    "crBP0, pValue = scipy.stats.pearsonr(womenDF['blood pressure'], womenDF['class'])\n",
    "crBP0"
   ]
  },
  {
   "cell_type": "code",
   "execution_count": 212,
   "metadata": {
    "collapsed": true
   },
   "outputs": [],
   "source": [
    "stats0 = {'blood pressure':crBP0, 'age':crAge0,'cholesterol':crCho0}\n",
    "femaleCausing=max(stats0, key = stats0.get)"
   ]
  },
  {
   "cell_type": "code",
   "execution_count": 213,
   "metadata": {},
   "outputs": [
    {
     "name": "stdout",
     "output_type": "stream",
     "text": [
      "The causings of heart disease are not the same on both sex:\n",
      "Men's: BLOOD PRESSURE\n",
      "Women's: CHOLESTEROL\n"
     ]
    }
   ],
   "source": [
    "if(femaleCausing == maleCausing):\n",
    "    print(\"Both men and women have the same causing of heart disease \"+femaleCausing)\n",
    "else:\n",
    "    print(\"The causings of heart disease are not the same on both sex:\\nMen's: \"+maleCausing.upper()+\"\\nWomen's: \"+ femaleCausing.upper())"
   ]
  },
  {
   "cell_type": "code",
   "execution_count": null,
   "metadata": {
    "collapsed": true
   },
   "outputs": [],
   "source": []
  }
 ],
 "metadata": {
  "kernelspec": {
   "display_name": "Python 3",
   "language": "python",
   "name": "python3"
  },
  "language_info": {
   "codemirror_mode": {
    "name": "ipython",
    "version": 3
   },
   "file_extension": ".py",
   "mimetype": "text/x-python",
   "name": "python",
   "nbconvert_exporter": "python",
   "pygments_lexer": "ipython3",
   "version": "3.6.1"
  }
 },
 "nbformat": 4,
 "nbformat_minor": 2
}
